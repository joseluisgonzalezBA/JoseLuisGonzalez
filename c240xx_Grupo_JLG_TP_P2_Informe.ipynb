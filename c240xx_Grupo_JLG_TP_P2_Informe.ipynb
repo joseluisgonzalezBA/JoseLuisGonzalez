{
  "nbformat": 4,
  "nbformat_minor": 0,
  "metadata": {
    "colab": {
      "private_outputs": true,
      "provenance": [],
      "collapsed_sections": [
        "PSV0OtqXhm_L",
        "POeh40E64kVH",
        "4UBsnEZ949US",
        "LNxANmY3EArg"
      ],
      "authorship_tag": "ABX9TyOhVRPD5ZVbEB7KgWVJcH9W",
      "include_colab_link": true
    },
    "kernelspec": {
      "name": "python3",
      "display_name": "Python 3"
    },
    "language_info": {
      "name": "python"
    }
  },
  "cells": [
    {
      "cell_type": "markdown",
      "metadata": {
        "id": "view-in-github",
        "colab_type": "text"
      },
      "source": [
        "<a href=\"https://colab.research.google.com/github/joseluisgonzalezBA/joseluisgonzalezBA/blob/main/c240xx_Grupo_JLG_TP_P2_Informe.ipynb\" target=\"_parent\"><img src=\"https://colab.research.google.com/assets/colab-badge.svg\" alt=\"Open In Colab\"/></a>"
      ]
    },
    {
      "cell_type": "markdown",
      "source": [
        "# Codo a Codo 2024 - 1º Cuatrimestre - TPGO Parte II - (Solucion Jose Luis Gonzalez)"
      ],
      "metadata": {
        "id": "eO-kNSha3-FW"
      }
    },
    {
      "cell_type": "markdown",
      "source": [
        "## Funciones utilizadas en el informe"
      ],
      "metadata": {
        "id": "PSV0OtqXhm_L"
      }
    },
    {
      "cell_type": "code",
      "source": [
        "# Muestra un texto subrayado con guiones\n",
        "def subrayar(texto):\n",
        "  print(texto)\n",
        "  print('-' * len(texto))\n",
        "\n",
        "# Muestra un texto enmarcado\n",
        "def enmarcar(texto):\n",
        "  ancho = len(texto) + 2\n",
        "  print(f\"+{'=' * ancho}+\")\n",
        "  print(f\"| {texto} |\")\n",
        "  print(f\"+{'=' * ancho}+\")\n"
      ],
      "metadata": {
        "id": "avX8AfAvhwsw"
      },
      "execution_count": null,
      "outputs": []
    },
    {
      "cell_type": "markdown",
      "source": [
        "## Lectura de los juegos de datos recibidos"
      ],
      "metadata": {
        "id": "POeh40E64kVH"
      }
    },
    {
      "cell_type": "code",
      "execution_count": null,
      "metadata": {
        "id": "NhabDMxM5mvx"
      },
      "outputs": [],
      "source": [
        "import pandas as pd\n",
        "import seaborn as sns\n",
        "import matplotlib.pyplot as plt\n",
        "url_gdrive = 'https://drive.google.com/uc?id='"
      ]
    },
    {
      "cell_type": "markdown",
      "source": [
        "### distributors_profile"
      ],
      "metadata": {
        "id": "sOBFEc-aLCJn"
      }
    },
    {
      "cell_type": "code",
      "source": [
        "# Lectura del archivo 'distributors_profile.csv'\n",
        "link_distributors = 'https://drive.google.com/file/d/1v_N5_lMWxM9xgGUjrGQsUCjp_CDxNyrr/view?usp=drive_link'\n",
        "id_distributors = link_distributors.split('/')[5]\n",
        "df_distributors = pd.read_csv(url_gdrive + id_distributors, thousands='.') # Correcion del separador de miles '.'\n",
        "\n",
        "# Filtrado de las filas con id = NaN\n",
        "df_distributors = df_distributors[df_distributors.id.notna()]\n",
        "\n",
        "# Conversion del campo 'id' a tipo entero\n",
        "df_distributors.id = df_distributors.id.astype(int)\n",
        "\n",
        "# Uso del campo 'id' como index del Dataframe\n",
        "# df_distributors.set_index('id',inplace=True)\n",
        "# df_distributors.index.name = None\n",
        "\n",
        "# Reindexacion\n",
        "df_distributors.reset_index(drop=True, inplace=True)\n",
        "\n",
        "enmarcar('Fuente de datos \"df_distributors\"')\n",
        "print()\n",
        "\n",
        "display(df_distributors.head(3),df_distributors.tail(3))\n",
        "print()\n",
        "\n",
        "subrayar('Tipos de datos de las columnas:')\n",
        "print(df_distributors.dtypes)\n",
        "print()\n",
        "\n",
        "subrayar('Filas / Columnas')\n",
        "df_distributors.shape"
      ],
      "metadata": {
        "id": "nZ5HWTmPXZ4N"
      },
      "execution_count": null,
      "outputs": []
    },
    {
      "cell_type": "markdown",
      "source": [
        "### exports_to_Paraguay"
      ],
      "metadata": {
        "id": "33d3uHLDLMJN"
      }
    },
    {
      "cell_type": "code",
      "source": [
        "# Lectura del archivo 'exports_to_Paraguay.csv'\n",
        "link_exports = 'https://drive.google.com/file/d/1veTCHiz13WO_VW0o9CLEK4tlEamiark2/view?usp=sharing'\n",
        "id_exports = link_exports.split('/')[5]\n",
        "df_exports = pd.read_csv(url_gdrive + id_exports, thousands='.') # Correcion del separador de miles '.'\n",
        "\n",
        "# Eliminacion de las ultimas 3 columnas vacias\n",
        "df_exports = df_exports[df_exports.columns[:-3]]\n",
        "\n",
        "# Correccion del tipo de dato de todas las columnas $$$\n",
        "for col in df_exports.columns[1:]:\n",
        "  df_exports[col] = df_exports[col].str.replace('$','')\n",
        "  df_exports[col] = df_exports[col].str.replace('.','')\n",
        "  df_exports[col] = df_exports[col].str.replace(',','.')\n",
        "  df_exports[col] = df_exports[col].astype(float)\n",
        "\n",
        "# Eliminacion de filas duplicadas\n",
        "df_exports.drop_duplicates(inplace=True)\n",
        "\n",
        "# Reindexacion\n",
        "df_exports.reset_index(drop=True, inplace=True)\n",
        "\n",
        "enmarcar('Fuente de datos \"df_exports\"')\n",
        "print()\n",
        "\n",
        "display(df_exports.head(3),df_exports.tail(3))\n",
        "print()\n",
        "\n",
        "subrayar('Tipos de datos de las columnas:')\n",
        "print(df_exports.dtypes)\n",
        "print()\n",
        "\n",
        "subrayar('Filas / Columnas')\n",
        "df_exports.shape"
      ],
      "metadata": {
        "id": "hopFB5stY9Cc"
      },
      "execution_count": null,
      "outputs": []
    },
    {
      "cell_type": "markdown",
      "source": [
        "### locations_profiles"
      ],
      "metadata": {
        "id": "dtUV-4ZFLUzV"
      }
    },
    {
      "cell_type": "code",
      "source": [
        "# Lectura del archivo 'locations_profiles.csv'\n",
        "link_locations = 'https://drive.google.com/file/d/1vbPc1RmjfnFQpIUDWKAcGr8jSvkziFrp/view?usp=sharing'\n",
        "id_locations = link_locations.split('/')[5]\n",
        "df_locations = pd.read_csv(url_gdrive + id_locations)\n",
        "\n",
        "# Filtrado de localidades sin distribuidores\n",
        "# Filtrado de las filas con id = NaN o id < 1\n",
        "df_locations = df_locations[(df_locations.id.notna()) & (df_locations.id > 0)]\n",
        "\n",
        "# Conversion del campo 'id' a tipo entero\n",
        "df_locations.id = df_locations.id.astype(int)\n",
        "\n",
        "# Reindexacion\n",
        "df_locations.reset_index(drop=True, inplace=True)\n",
        "\n",
        "enmarcar('Fuente de datos \"df_locations\"')\n",
        "print()\n",
        "\n",
        "display(df_locations.head(3), df_locations.tail(3))\n",
        "print()\n",
        "\n",
        "subrayar('Tipos de datos de las columnas:')\n",
        "print(df_locations.dtypes)\n",
        "print()\n",
        "\n",
        "subrayar('Filas / Columnas')\n",
        "df_locations.shape"
      ],
      "metadata": {
        "id": "7e1LgiUlgN5e"
      },
      "execution_count": null,
      "outputs": []
    },
    {
      "cell_type": "markdown",
      "source": [
        "### sales_in_Paraguay"
      ],
      "metadata": {
        "id": "6LnBkArgLdwL"
      }
    },
    {
      "cell_type": "code",
      "source": [
        "# Lectura del archivo 'sales_in_Paraguay.xlsx'\n",
        "link_sales = 'https://docs.google.com/spreadsheets/d/1vZB6mc9JD5PId3mIWYNMEFOTDjfJxsll/edit?usp=sharing&ouid=112935633353329215772&rtpof=true&sd=true'\n",
        "id_sales = link_sales.split('/')[5]\n",
        "df_sales = pd.read_excel(url_gdrive + id_sales, skipfooter=1) # No lee la ultima fila de \"totales\"\n",
        "\n",
        "# Conversion del campo 'distributor' a tipo entero\n",
        "df_sales.distributor = df_sales.distributor.astype(int)\n",
        "\n",
        "# Correccion del tipo de dato de todas las columnas $$$\n",
        "for col in df_sales.columns[1:]:\n",
        "  df_sales[col] = df_sales[col].str.replace('$','')\n",
        "  df_sales[col] = df_sales[col].str.replace('.','')\n",
        "  df_sales[col] = df_sales[col].str.replace(',','.')\n",
        "  df_sales[col] = df_sales[col].astype(float)\n",
        "\n",
        "enmarcar('Fuente de datos \"df_sales\"')\n",
        "print()\n",
        "\n",
        "display(df_sales.head(3), df_sales.tail(3))\n",
        "print()\n",
        "\n",
        "subrayar('Tipos de datos de las columnas:')\n",
        "print(df_sales.dtypes)\n",
        "print()\n",
        "\n",
        "subrayar('Filas / Columnas')\n",
        "df_sales.shape"
      ],
      "metadata": {
        "id": "WSEPqaVil_HX"
      },
      "execution_count": null,
      "outputs": []
    },
    {
      "cell_type": "markdown",
      "source": [
        "## Depuracion de las fuentes de datos"
      ],
      "metadata": {
        "id": "4UBsnEZ949US"
      }
    },
    {
      "cell_type": "code",
      "source": [
        "# Analisis de la coincidencia de distribuidores que importan y venden en Paraguay\n",
        "exports_dist = df_exports.distributor\n",
        "sales_dist = df_sales.distributor\n",
        "interseccion_dist = exports_dist.isin(sales_dist)\n",
        "subrayar('Nº de distribuidores que coinciden en \"exports\" y \"sales\":')\n",
        "print(interseccion_dist.size)\n",
        "print()\n",
        "print('Como hay una coincidencia total se asume que ambas fuentes son coherentes')"
      ],
      "metadata": {
        "id": "T-bVIMVvejSx"
      },
      "execution_count": null,
      "outputs": []
    },
    {
      "cell_type": "markdown",
      "source": [
        "## Analisis de las fuentes de datos"
      ],
      "metadata": {
        "id": "9QnypXNE9zU2"
      }
    },
    {
      "cell_type": "markdown",
      "source": [
        "### Analisis del balance de stock y demanda (sobrestock)"
      ],
      "metadata": {
        "id": "NpXBjeTEDn4k"
      }
    },
    {
      "cell_type": "code",
      "source": [
        "enmarcar('Analisis del sobrestock en Paraguay')\n",
        "print()\n",
        "\n",
        "# Totales x producto en miles de millones\n",
        "exports_totals_milM = df_exports[df_exports.columns[1:]].sum() / 1e9\n",
        "sales_totals_milM = df_sales[df_sales.columns[1:]].sum() / 1e9\n",
        "\n",
        "subrayar('Total de importaciones en Paraguay:')\n",
        "print(f'$ {exports_totals_milM.sum():.2f} miles de millones\\n') # Total de importaciones en miles de millones\n",
        "\n",
        "subrayar('Total de ventas en Paraguay:')\n",
        "print(f'$ {sales_totals_milM.sum():.2f} miles de millones\\n') # Total de ventas en miles de millones\n",
        "\n",
        "subrayar('Sobrestock en Paraguay:')\n",
        "print(f'$ {(exports_totals_milM.sum() - sales_totals_milM.sum()):.2f} miles de millones\\n')\n",
        "\n",
        "print('DIAGNOSTICO: En Paraguay hubo un sobrestock superior a los $ 9 mil millones en el cuatrimestre analizado. ')"
      ],
      "metadata": {
        "id": "SN73HyIdqwLy"
      },
      "execution_count": null,
      "outputs": []
    },
    {
      "cell_type": "markdown",
      "source": [
        "### Analisis del sobrestock por producto"
      ],
      "metadata": {
        "id": "m2Ag4LAsDyA1"
      }
    },
    {
      "cell_type": "code",
      "source": [
        "enmarcar('Analisis del sobrestock en Paraguay por producto')\n",
        "print()\n",
        "\n",
        "sstock_M = (exports_totals_milM - sales_totals_milM) * 1e3\n",
        "subrayar('Sobrestock por producto (en millones:)')\n",
        "\n",
        "for i,p in sstock_M.items():\n",
        "  print(f'{i:10}: $ {p:8.2f} M {\"(*)\" if p > 0 else \"\"}')\n",
        "print()\n",
        "\n",
        "subrayar('Productos con sobrestock positivo (en millones:)')\n",
        "for i,p in sstock_M[sstock_M >= 0].items():\n",
        "  print(f'{i:10}: $ {p:8.2f} M')\n",
        "print()\n",
        "\n",
        "print('DIAGNOSTICO: En Paraguay hubo importaciones excesivas de 2 productos (*) con poco nivel de ventas.')"
      ],
      "metadata": {
        "id": "ed_-Dy914LOf"
      },
      "execution_count": null,
      "outputs": []
    },
    {
      "cell_type": "markdown",
      "source": [
        "### Analisis del contexto del sobrestock de acero y ladrillo (localidades)"
      ],
      "metadata": {
        "id": "LNxANmY3EArg"
      }
    },
    {
      "cell_type": "code",
      "source": [
        "enmarcar('Analisis del contexto del sobrestock en Paraguay')\n",
        "print()\n",
        "print('Total de localidades con distribuidores:',df_locations.index.size)\n",
        "print()\n",
        "\n",
        "localidades_steel = df_locations.activities.str.contains('Steel', case=False)\n",
        "localidades_brick = df_locations.activities.str.contains('Brick', case=False)\n",
        "\n",
        "subrayar(\"Localidades con actividades relacionadas al 'acero'\")\n",
        "display(df_locations[localidades_steel])\n",
        "print()\n",
        "print('Total de localidades:',df_locations[localidades_steel].index.size)\n",
        "print()\n",
        "\n",
        "subrayar(\"Localidades con actividades relacionadas al 'ladrillo'\")\n",
        "display(df_locations[localidades_brick])\n",
        "print()\n",
        "print('Total de localidades:',df_locations[localidades_brick].index.size)\n",
        "print()\n",
        "\n",
        "print('DIAGNOSTICO: En Paraguay comercian acero o ladrillo solamente 2 localidades de un total de 10 con distribuidores.')"
      ],
      "metadata": {
        "id": "UGOXkmXo-qvZ"
      },
      "execution_count": null,
      "outputs": []
    },
    {
      "cell_type": "markdown",
      "source": [
        "### Analisis del contexto del sobrestock de acero y ladrillo (distribuidores)"
      ],
      "metadata": {
        "id": "4HLdAhsYGBoA"
      }
    },
    {
      "cell_type": "code",
      "source": [
        "# Ventas de 'acero' y 'ladrillo' por distribuidor\n",
        "syb_sales = df_sales[['distributor','Steel','Brick']].rename(columns={'Steel':'steel_sales','Brick':'brick_sales'})\n",
        "\n",
        "# Importaciones de 'acero' y 'ladrillo' por distribuidor\n",
        "syb_imports = df_exports[['distributor','Steel','Brick']].rename(columns={'Steel':'steel_imports','Brick':'brick_imports'})\n",
        "\n",
        "# Consolidacion de ventas e importaciones de acero y ladrillo\n",
        "syb = syb_sales.merge(syb_imports, on='distributor')\n",
        "syb.sort_values('distributor', inplace=True)\n",
        "\n",
        "# Agregado de columnas de balance para acero y ladrillo\n",
        "syb['steel_sstock'] = syb.steel_imports - syb.steel_sales\n",
        "syb['brick_sstock'] = syb.brick_imports - syb.brick_sales\n",
        "\n",
        "enmarcar('Sobrestock de \"acero\" y \"ladrillo\" por distribuidor')\n",
        "print()\n",
        "\n",
        "subrayar('| id_distributor | steel_sstock | brick_sstock |')\n",
        "for i,d in syb.iterrows():\n",
        "  print(f'| {d.distributor:14.0f} | $ {d.steel_sstock/1e6:8.2f} M | $ {d.brick_sstock/1e6:8.2f} M |')\n",
        "\n",
        "steel_sstock_M = syb.steel_sstock.sum()/1e6\n",
        "brick_sstock_M = syb.brick_sstock.sum()/1e6\n",
        "print('-' * 63)\n",
        "print(f'| {\"Totales\":14} | $ {steel_sstock_M:8.2f} M | $ {brick_sstock_M:8.2f} M | $ {steel_sstock_M + brick_sstock_M:8.2f} M |')\n",
        "print('-' * 63)\n",
        "print()\n",
        "\n",
        "print('CONCLUSION: todos los distribuidores tienen sobrestock para los 2 productos analizados totalizando casi $ 19 mil millones.')"
      ],
      "metadata": {
        "id": "WB_ElpL-GHha"
      },
      "execution_count": null,
      "outputs": []
    },
    {
      "cell_type": "code",
      "source": [
        "# Top 5 sobrestocks de \"acero\"\n",
        "sstock_steel = syb.sort_values('steel_sstock', ascending=False)[:5]\n",
        "enmarcar('Top 5 sobrestocks de \"acero\" por distribuidor')\n",
        "subrayar('| id_distributor | steel_sstock |')\n",
        "for i,d in sstock_steel.iterrows():\n",
        "  print(f'| {d.distributor:14.0f} | $ {d.steel_sstock/1e6:8.2f} M |')\n",
        "print()\n",
        "\n",
        "gra = sns.barplot(data=sstock_steel, x='distributor', y='steel_sstock', color='tomato', order=sstock_steel.distributor)\n",
        "plt.yscale('log')\n",
        "gra.set_title('Top 5 sobrestocks de acero (en millones)')\n",
        "yticks = gra.get_yticks()\n",
        "gra.set_yticks(yticks)\n",
        "gra.set_yticklabels([f'{x:.0f} M' for x in yticks / 1e6])\n",
        "gra.bar_label(gra.containers[0], labels=[f'${art.get_height() / 1e6:.2f} M' for art in gra.containers[0]], label_type='edge')\n",
        "plt.show()"
      ],
      "metadata": {
        "id": "Q2GGMtCbJBuy"
      },
      "execution_count": null,
      "outputs": []
    },
    {
      "cell_type": "code",
      "source": [
        "# Top 5 sobrestocks de \"ladrillo\"\n",
        "sstock_brick = syb.sort_values('brick_sstock', ascending=False)[:5]\n",
        "enmarcar('Top 5 sobrestocks de \"ladrillo\" por distribuidor')\n",
        "subrayar('| id_distributor | brick_sstock |')\n",
        "for i,d in sstock_brick.iterrows():\n",
        "  print(f'| {d.distributor:14.0f} | $ {d.brick_sstock/1e6:8.2f} M |')\n",
        "print()\n",
        "\n",
        "gra = sns.barplot(data=sstock_brick, x='distributor', y='brick_sstock', order=sstock_brick.distributor, color='tomato')\n",
        "gra.set_title('Top 5 sobrestocks de ladrillo (en millones)')\n",
        "yticks = gra.get_yticks()\n",
        "gra.set_yticks(yticks)\n",
        "gra.set_yticklabels([f'{x:.0f} M' for x in yticks / 1e6])\n",
        "gra.bar_label(gra.containers[0], labels=[f'${art.get_height() / 1e6:.2f} M' for art in gra.containers[0]], label_type='edge')\n",
        "plt.show()"
      ],
      "metadata": {
        "id": "0pq7iWChOWO8"
      },
      "execution_count": null,
      "outputs": []
    },
    {
      "cell_type": "markdown",
      "source": [
        "## Conclusiones finales\n",
        "\n",
        "La baja performance en cuanto a ganancias netas en Paraguay, se vio afectada negativamente por multiples motivos relacionados:\n",
        "\n",
        "- La ubicacion de los distribuidores en localidades que no tienen el perfil comercial de CMM.\n",
        "- La falta de distribuidores en ciudades importantes del pais.\n",
        "- El sobrestock de los materiales `acero` y `ladrillo` en cifras muy altas en todos los distribuidores en general.\n",
        "- 4 distribuidores tuvieron sobrestocks altisimos de `acero` y `ladrillo`."
      ],
      "metadata": {
        "id": "l4UGMfvEQ54B"
      }
    }
  ]
}